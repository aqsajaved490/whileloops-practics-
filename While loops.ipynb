{
 "cells": [
  {
   "cell_type": "code",
   "execution_count": 1,
   "id": "cf6680fb-6335-41e2-86e8-10e12baa0724",
   "metadata": {},
   "outputs": [
    {
     "name": "stdout",
     "output_type": "stream",
     "text": [
      "1\n",
      "2\n",
      "3\n",
      "4\n",
      "5\n",
      "6\n",
      "7\n",
      "8\n",
      "9\n",
      "10\n"
     ]
    }
   ],
   "source": [
    "#Counting with While Loop  \n",
    "   #Write a program that uses a while loop to count from 1 to 10 and print each number.\n",
    "count = 1\n",
    "while count <= 10:\n",
    "    print(count)  # Print the current value of count\n",
    "    count += 1    # Increment the count by 1 after each loop iteration\n"
   ]
  },
  {
   "cell_type": "code",
   "execution_count": 3,
   "id": "e8dd2890-4dbf-4436-82b4-9f29015dc16a",
   "metadata": {},
   "outputs": [
    {
     "name": "stdout",
     "output_type": "stream",
     "text": [
      "2\n",
      "4\n",
      "6\n",
      "8\n",
      "10\n",
      "12\n",
      "14\n",
      "16\n",
      "18\n",
      "20\n"
     ]
    }
   ],
   "source": [
    "#Even Numbers  \n",
    "  # Create a while loop to print all even numbers from 1 to 20.\n",
    "num = 2\n",
    "while num <= 20:\n",
    "    print(num)  # Print the current value of num\n",
    "    num += 2    # Increment num by 2 to get the next even number\n"
   ]
  },
  {
   "cell_type": "code",
   "execution_count": 5,
   "id": "e6fc837a-8ea6-4f94-97b9-90768e0b010f",
   "metadata": {},
   "outputs": [
    {
     "name": "stdout",
     "output_type": "stream",
     "text": [
      "The sum of the first 10 natural numbers is: 55\n"
     ]
    }
   ],
   "source": [
    "#Sum of Natural Numbers\n",
    "   #Write a program using a while loop to calculate the sum of the first 10 natural numbers.\n",
    "num = 1  # Start from the first natural number\n",
    "sum_of_numbers = 0  # Initialize the sum to 0\n",
    "\n",
    "# Use a while loop to calculate the sum of the first 10 natural numbers\n",
    "while num <= 10:\n",
    "    sum_of_numbers += num  # Add the current number to the sum\n",
    "    num += 1  # Increment num by 1 to move to the next natural number\n",
    "\n",
    "# Print the result\n",
    "print(\"The sum of the first 10 natural numbers is:\", sum_of_numbers)\n"
   ]
  },
  {
   "cell_type": "code",
   "execution_count": 9,
   "id": "9d37b86e-63ec-474f-af7b-3a31bd289cc0",
   "metadata": {},
   "outputs": [
    {
     "name": "stdin",
     "output_type": "stream",
     "text": [
      "Enter a number (negative number to stop):  5\n",
      "Enter a number (negative number to stop):  90\n",
      "Enter a number (negative number to stop):  -35\n"
     ]
    }
   ],
   "source": [
    "#Write a program that prompts the user to enter numbers. The loop should keep asking for numbers until the user enters a negative number. \n",
    "total_sum = 0\n",
    "while True:\n",
    "    num = int(input(\"Enter a number (negative number to stop): \"))\n",
    "    if num < 0:\n",
    "        break  \n",
    "    total_sum += num\n",
    "\n",
    "\n"
   ]
  },
  {
   "cell_type": "code",
   "execution_count": null,
   "id": "e808f526-ad5d-4646-b81f-a478515ca75a",
   "metadata": {},
   "outputs": [
    {
     "name": "stdin",
     "output_type": "stream",
     "text": [
      "Guess a number between 1 and 100:  97\n"
     ]
    },
    {
     "name": "stdout",
     "output_type": "stream",
     "text": [
      "Too high! Try again.\n"
     ]
    },
    {
     "name": "stdin",
     "output_type": "stream",
     "text": [
      "Guess a number between 1 and 100:  60\n"
     ]
    },
    {
     "name": "stdout",
     "output_type": "stream",
     "text": [
      "Too high! Try again.\n"
     ]
    },
    {
     "name": "stdin",
     "output_type": "stream",
     "text": [
      "Guess a number between 1 and 100:  59\n"
     ]
    },
    {
     "name": "stdout",
     "output_type": "stream",
     "text": [
      "Too high! Try again.\n"
     ]
    },
    {
     "name": "stdin",
     "output_type": "stream",
     "text": [
      "Guess a number between 1 and 100:  101\n"
     ]
    },
    {
     "name": "stdout",
     "output_type": "stream",
     "text": [
      "Too high! Try again.\n"
     ]
    }
   ],
   "source": [
    "#Create a guessing game where the user has to guess a number between 1 and 100\n",
    "import random\n",
    "secret_number = random.randint(1, 100)\n",
    "guess = None\n",
    "while guess != secret_number:\n",
    "    guess = int(input(\"Guess a number between 1 and 100: \"))\n",
    "    if guess < secret_number:\n",
    "        print(\"Too low! Try again.\")\n",
    "    elif guess > secret_number:\n",
    "        print(\"Too high! Try again.\")\n",
    "    else:\n",
    "        print(\"Congratulations! You've guessed the correct number.\")\n"
   ]
  },
  {
   "cell_type": "code",
   "execution_count": null,
   "id": "bdef630b-f0df-4af6-bc5c-00a2a2543a09",
   "metadata": {},
   "outputs": [],
   "source": [
    "#Write a program to calculate the factorial of a given positive integer using a while loop.\n",
    "num = int(input(\"Enter a positive integer: \"))\n",
    "factorial = 1\n",
    "if num < 0:\n",
    "    print(\"Factorial is not defined for negative numbers.\")\n",
    "else:\n",
    "    while num > 1:\n",
    "        factorial *= num  \n",
    "        num -= 1  \n",
    "    print(f\"The factorial is: {factorial}\")\n"
   ]
  },
  {
   "cell_type": "code",
   "execution_count": null,
   "id": "e6188d88-b02a-4832-b8d8-0c1173b092d0",
   "metadata": {},
   "outputs": [],
   "source": [
    "#Write a program that uses a while loop to take in a series of numbers from the user. The loop should stop when the user enters \"done\".\n",
    "total_sum = 0\n",
    "count = 0\n",
    "while True:\n",
    "    user_input = input(\"Enter a number (or 'done' to finish): \")\n",
    "    \n",
    "    if user_input.lower() == \"done\":\n",
    "        break\n",
    "    \n",
    "    total_sum += float(user_input)\n",
    "    count += 1\n",
    "if count > 0:\n",
    "    print(f\"The average is: {total_sum / count}\")\n",
    "else:\n",
    "    print(\"No numbers entered.\")\n",
    "\n",
    "   "
   ]
  },
  {
   "cell_type": "code",
   "execution_count": null,
   "id": "6c896544-f8c0-46ae-87e7-d3a238e39023",
   "metadata": {},
   "outputs": [],
   "source": [
    "#Using a while loop, print the Fibonacci sequence up to a specified number n (where n is an integer input by the user).\n",
    "n = int(input(\"Enter a number: \"))\n",
    "a, b = 0, 1\n",
    "while a <= n:\n",
    "    print(a, end=\" \")  \n",
    "    a, b = b, a + b    \n"
   ]
  }
 ],
 "metadata": {
  "kernelspec": {
   "display_name": "Python 3 (ipykernel)",
   "language": "python",
   "name": "python3"
  },
  "language_info": {
   "codemirror_mode": {
    "name": "ipython",
    "version": 3
   },
   "file_extension": ".py",
   "mimetype": "text/x-python",
   "name": "python",
   "nbconvert_exporter": "python",
   "pygments_lexer": "ipython3",
   "version": "3.12.7"
  }
 },
 "nbformat": 4,
 "nbformat_minor": 5
}
